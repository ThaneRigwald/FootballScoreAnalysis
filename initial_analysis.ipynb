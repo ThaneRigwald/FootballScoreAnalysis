{
 "cells": [
  {
   "cell_type": "markdown",
   "metadata": {},
   "source": [
    "## Football Score Analysis"
   ]
  },
  {
   "cell_type": "markdown",
   "metadata": {},
   "source": [
    "As a warm up we look at the Hong Kong Premier League, extracting some football match results and building a rough pipeline for the analysis."
   ]
  },
  {
   "cell_type": "code",
   "execution_count": 8,
   "metadata": {},
   "outputs": [],
   "source": [
    "%matplotlib inline\n",
    "\n",
    "import requests\n",
    "import pandas as pd\n",
    "from bs4 import BeautifulSoup\n",
    "\n",
    "url = 'https://en.wikipedia.org/wiki/2015%E2%80%9316_Hong_Kong_Premier_League'\n",
    "\n",
    "page = requests.get(url)\n",
    "page\n",
    "page.content\n",
    "\n",
    "soup = BeautifulSoup(page.content, 'html.parser')\n",
    "\n",
    "events_tables = [event.find_all('table') for event in soup.find_all('div', class_='vevent')]\n",
    "table_columns = []\n",
    "for i in range(0,10):\n",
    "    events_items = [table[0].find_all('td')[i].get_text() for table in events_tables]\n",
    "    table_columns.append(events_items)\n",
    "table_columns\n",
    "\n",
    "event_dates = table_columns[0]\n",
    "event_home_teams = table_columns[1]\n",
    "event_scores = table_columns[2]\n",
    "event_away_teams = table_columns[3]\n",
    "event_home_score = [int(stringEle.split(u'–')[0]) for stringEle in event_scores]\n",
    "event_away_score = [int(stringEle.split(u'–')[1]) for stringEle in event_scores]\n",
    "event_total_goals = [int(stringEle.split(u'–')[0]) + int(stringEle.split(u'–')[1]) for stringEle in event_scores]"
   ]
  },
  {
   "cell_type": "code",
   "execution_count": 9,
   "metadata": {},
   "outputs": [
    {
     "name": "stdout",
     "output_type": "stream",
     "text": [
      "                              date                  home  home_score scores  \\\n",
      "0   12 September 2015 (2015-09-12)  Dreams Metro Gallery           2    2–0   \n",
      "1   12 September 2015 (2015-09-12)               Kitchee           4    4–0   \n",
      "2   13 September 2015 (2015-09-13)              Southern           3    3–3   \n",
      "3   13 September 2015 (2015-09-13)               Rangers           1    1–2   \n",
      "4   18 September 2015 (2015-09-18)               Rangers           1    1–1   \n",
      "5   19 September 2015 (2015-09-19)  Dreams Metro Gallery           0    0–3   \n",
      "6   19 September 2015 (2015-09-19)               Eastern           1    1–0   \n",
      "7    23 December 2015 (2015-12-23)               Kitchee           4    4–2   \n",
      "8   26 September 2015 (2015-09-26)           South China           1    1–0   \n",
      "9   26 September 2015 (2015-09-26)               Eastern           1    1–1   \n",
      "10  27 September 2015 (2015-09-27)  Dreams Metro Gallery           3    3–2   \n",
      "11  27 September 2015 (2015-09-27)            HK Pegasus           1    1–0   \n",
      "12    16 October 2015 (2015-10-16)           South China           2    2–1   \n",
      "13    17 October 2015 (2015-10-17)              Southern           1    1–2   \n",
      "14    17 October 2015 (2015-10-17)            HK Pegasus           1    1–1   \n",
      "15    18 October 2015 (2015-10-18)               Rangers           0    0–0   \n",
      "16    31 October 2015 (2015-10-31)              Southern           2    2–0   \n",
      "17    31 October 2015 (2015-10-31)            HK Pegasus           0    0–2   \n",
      "18    1 November 2015 (2015-11-01)               Eastern           1    1–0   \n",
      "19    1 November 2015 (2015-11-01)               Rangers           0    0–2   \n",
      "20   16 February 2016 (2016-02-16)           South China           2    2–1   \n",
      "21       2 March 2016 (2016-03-02)               Kitchee           2    2–0   \n",
      "22      16 March 2016 (2016-03-16)               Eastern           4    4–2   \n",
      "23      10 April 2016 (2016-04-10)          Wong Tai Sin           3    3–3   \n",
      "24   28 November 2015 (2015-11-28)          Wong Tai Sin           2    2–2   \n",
      "25   28 November 2015 (2015-11-28)           South China           2    2–0   \n",
      "26   29 November 2015 (2015-11-29)  Dreams Metro Gallery           2    2–1   \n",
      "27   29 November 2015 (2015-11-29)             Yuen Long           1    1–1   \n",
      "28   12 December 2015 (2015-12-12)          Wong Tai Sin           0    0–0   \n",
      "29   12 December 2015 (2015-12-12)               Rangers           0    0–0   \n",
      "..                             ...                   ...         ...    ...   \n",
      "42    31 January 2016 (2016-01-31)          Wong Tai Sin           1    1–2   \n",
      "43    31 January 2016 (2016-01-31)             Yuen Long           3    3–1   \n",
      "44   20 February 2016 (2016-02-20)              Southern           1    1–1   \n",
      "45   20 February 2016 (2016-02-20)             Yuen Long           2    2–2   \n",
      "46   21 February 2016 (2016-02-21)            HK Pegasus           0    0–0   \n",
      "47   21 February 2016 (2016-02-21)               Rangers           2    2–1   \n",
      "48   27 February 2016 (2016-02-27)  Dreams Metro Gallery           0    0–4   \n",
      "49   28 February 2016 (2016-02-28)          Wong Tai Sin           2    2–1   \n",
      "50   28 February 2016 (2016-02-28)               Kitchee           2    2–1   \n",
      "51   29 February 2016 (2016-02-29)           South China           0    0–2   \n",
      "52       5 March 2016 (2016-03-05)             Yuen Long           0    0–1   \n",
      "53       5 March 2016 (2016-03-05)               Eastern           4    4–0   \n",
      "54       6 March 2016 (2016-03-06)          Wong Tai Sin           3    3–2   \n",
      "55       6 March 2016 (2016-03-06)            HK Pegasus           0    0–1   \n",
      "56      12 March 2016 (2016-03-12)          Wong Tai Sin           1    1–1   \n",
      "57      12 March 2016 (2016-03-12)               Eastern           0    0–2   \n",
      "58      13 March 2016 (2016-03-13)  Dreams Metro Gallery           1    1–1   \n",
      "59      13 March 2016 (2016-03-13)             Yuen Long           2    2–2   \n",
      "60       2 April 2016 (2016-04-02)              Southern           3    3–2   \n",
      "61       2 April 2016 (2016-04-02)               Kitchee           2    2–1   \n",
      "62       3 April 2016 (2016-04-03)  Dreams Metro Gallery           0    0–1   \n",
      "63       3 April 2016 (2016-04-03)               Eastern           3    3–0   \n",
      "64      22 April 2016 (2016-04-22)           South China           1    1–2   \n",
      "65      23 April 2016 (2016-04-23)            HK Pegasus           2    2–4   \n",
      "66      24 April 2016 (2016-04-24)  Dreams Metro Gallery           1    1–1   \n",
      "67      24 April 2016 (2016-04-24)             Yuen Long           4    4–1   \n",
      "68         7 May 2016 (2016-05-07)               Kitchee           2    2–0   \n",
      "69         7 May 2016 (2016-05-07)             Yuen Long           2    2–1   \n",
      "70         7 May 2016 (2016-05-07)               Rangers           3    3–2   \n",
      "71         7 May 2016 (2016-05-07)              Southern           2    2–3   \n",
      "\n",
      "                    away  away_score  total_goals  \n",
      "0           Wong Tai Sin           0            2  \n",
      "1              Yuen Long           0            4  \n",
      "2             HK Pegasus           3            6  \n",
      "3                Eastern           2            3  \n",
      "4              Yuen Long           1            2  \n",
      "5             HK Pegasus           3            3  \n",
      "6           Wong Tai Sin           0            1  \n",
      "7            South China           2            6  \n",
      "8               Southern           0            1  \n",
      "9                Kitchee           1            2  \n",
      "10             Yuen Long           2            5  \n",
      "11               Rangers           0            1  \n",
      "12          Wong Tai Sin           1            3  \n",
      "13               Eastern           2            3  \n",
      "14             Yuen Long           1            2  \n",
      "15  Dreams Metro Gallery           0            0  \n",
      "16          Wong Tai Sin           0            2  \n",
      "17           South China           2            2  \n",
      "18  Dreams Metro Gallery           0            1  \n",
      "19               Kitchee           2            2  \n",
      "20             Yuen Long           1            3  \n",
      "21              Southern           0            2  \n",
      "22            HK Pegasus           2            6  \n",
      "23      Biu Chun Rangers           3            6  \n",
      "24            HK Pegasus           2            4  \n",
      "25               Rangers           0            2  \n",
      "26               Kitchee           1            3  \n",
      "27              Southern           1            2  \n",
      "28               Kitchee           0            0  \n",
      "29              Southern           0            0  \n",
      "..                   ...         ...          ...  \n",
      "42               Eastern           2            3  \n",
      "43               Rangers           1            4  \n",
      "44               Kitchee           1            2  \n",
      "45           South China           2            4  \n",
      "46               Eastern           0            0  \n",
      "47          Wong Tai Sin           1            3  \n",
      "48               Eastern           4            4  \n",
      "49              Southern           1            3  \n",
      "50               Rangers           1            3  \n",
      "51            HK Pegasus           2            2  \n",
      "52               Kitchee           1            1  \n",
      "53               Rangers           0            4  \n",
      "54  Dreams Metro Gallery           2            5  \n",
      "55              Southern           1            1  \n",
      "56           South China           1            2  \n",
      "57              Southern           2            2  \n",
      "58               Rangers           1            2  \n",
      "59            HK Pegasus           2            4  \n",
      "60               Rangers           2            5  \n",
      "61          Wong Tai Sin           1            3  \n",
      "62           South China           1            1  \n",
      "63             Yuen Long           0            3  \n",
      "64               Eastern           2            3  \n",
      "65               Kitchee           4            6  \n",
      "66              Southern           1            2  \n",
      "67          Wong Tai Sin           1            5  \n",
      "68               Eastern           0            2  \n",
      "69  Dreams Metro Gallery           1            3  \n",
      "70            HK Pegasus           2            5  \n",
      "71           South China           3            5  \n",
      "\n",
      "[72 rows x 7 columns]\n"
     ]
    }
   ],
   "source": [
    "events_results = pd.DataFrame({\n",
    "    \"date\": event_dates,\n",
    "    \"home\": event_home_teams,\n",
    "    \"scores\": event_scores,\n",
    "    \"away\": event_away_teams,\n",
    "    \"home_score\": event_home_score,\n",
    "    \"away_score\": event_away_score,\n",
    "    \"total_goals\": event_total_goals\n",
    "})\n",
    "events_results = events_results[['date', 'home', 'home_score', 'scores', 'away', 'away_score', 'total_goals']]\n",
    "print(events_results)"
   ]
  },
  {
   "cell_type": "code",
   "execution_count": 10,
   "metadata": {},
   "outputs": [
    {
     "data": {
      "text/plain": [
       "array([[<matplotlib.axes._subplots.AxesSubplot object at 0x10e7c94a8>]],\n",
       "      dtype=object)"
      ]
     },
     "execution_count": 10,
     "metadata": {},
     "output_type": "execute_result"
    },
    {
     "data": {
      "image/png": "[encoded data removed]",
      "text/plain": [
       "<Figure size 432x288 with 1 Axes>"
      ]
     },
     "metadata": {},
     "output_type": "display_data"
    }
   ],
   "source": [
    "pd.DataFrame.hist(data=events_results, column=['total_goals'])"
   ]
  },
  {
   "cell_type": "markdown",
   "metadata": {},
   "source": [
    "So our idea is that a Poisson distribution is what it takes to measure number of goals scored, number of goals taken and as a result determine things such as Over/Under and Asian Handicap probabilities.\n",
    "\n",
    "The Poisson distribution has only one parameter $\\mu$, corresponding to the mean value of the distribution. One parameter is pretty good since we do not have that much data to evaluate it in the first place, minimise the effect of overfitting:\n",
    "\n",
    "$$ P(X=k) = \\frac{\\mu^k \\exp{\\mu}}{k\\!!} $$\n",
    "\n",
    "For the total goals we can compute the mean and fit a distribution against it."
   ]
  },
  {
   "cell_type": "code",
   "execution_count": 19,
   "metadata": {},
   "outputs": [
    {
     "name": "stdout",
     "output_type": "stream",
     "text": [
      "2.9583333333333335\n",
      "2.9583333333333335\n",
      "                      home_score\n",
      "home                            \n",
      "Dreams Metro Gallery       1.125\n",
      "Eastern                    2.125\n",
      "HK Pegasus                 0.750\n",
      "Kitchee                    2.375\n",
      "Rangers                    0.875\n",
      "South China                1.500\n",
      "Southern                   2.500\n",
      "Wong Tai Sin               1.625\n",
      "Yuen Long                  1.875\n",
      "                      away_score\n",
      "away                            \n",
      "Biu Chun Rangers        3.000000\n",
      "Dreams Metro Gallery    1.250000\n",
      "Eastern                 2.250000\n",
      "HK Pegasus              2.000000\n",
      "Kitchee                 1.625000\n",
      "Rangers                 0.714286\n",
      "South China             1.750000\n",
      "Southern                0.750000\n",
      "Wong Tai Sin            0.500000\n",
      "Yuen Long               0.750000\n"
     ]
    }
   ],
   "source": [
    "import numpy as np\n",
    "\n",
    "mu = np.mean(events_results['total_goals'])\n",
    "print(mu)\n",
    "\n",
    "mu_pd = events_results['total_goals'].mean()\n",
    "print(mu_pd)\n",
    "\n",
    "home_mean = events_results.groupby('home')[['home', 'home_score']].mean()\n",
    "away_mean = events_results.groupby('away')[['away', 'away_score']].mean()\n",
    "print(home_mean)\n",
    "print(away_mean)"
   ]
  },
  {
   "cell_type": "code",
   "execution_count": 21,
   "metadata": {},
   "outputs": [
    {
     "data": {
      "text/html": [
       "<div>\n",
       "<style scoped>\n",
       "    .dataframe tbody tr th:only-of-type {\n",
       "        vertical-align: middle;\n",
       "    }\n",
       "\n",
       "    .dataframe tbody tr th {\n",
       "        vertical-align: top;\n",
       "    }\n",
       "\n",
       "    .dataframe thead th {\n",
       "        text-align: right;\n",
       "    }\n",
       "</style>\n",
       "<table border=\"1\" class=\"dataframe\">\n",
       "  <thead>\n",
       "    <tr style=\"text-align: right;\">\n",
       "      <th></th>\n",
       "      <th>goals</th>\n",
       "    </tr>\n",
       "    <tr>\n",
       "      <th>team</th>\n",
       "      <th></th>\n",
       "    </tr>\n",
       "  </thead>\n",
       "  <tbody>\n",
       "    <tr>\n",
       "      <th>Biu Chun Rangers</th>\n",
       "      <td>3.0000</td>\n",
       "    </tr>\n",
       "    <tr>\n",
       "      <th>Dreams Metro Gallery</th>\n",
       "      <td>1.1875</td>\n",
       "    </tr>\n",
       "    <tr>\n",
       "      <th>Eastern</th>\n",
       "      <td>2.1875</td>\n",
       "    </tr>\n",
       "    <tr>\n",
       "      <th>HK Pegasus</th>\n",
       "      <td>1.3750</td>\n",
       "    </tr>\n",
       "    <tr>\n",
       "      <th>Kitchee</th>\n",
       "      <td>2.0000</td>\n",
       "    </tr>\n",
       "    <tr>\n",
       "      <th>Rangers</th>\n",
       "      <td>0.8000</td>\n",
       "    </tr>\n",
       "    <tr>\n",
       "      <th>South China</th>\n",
       "      <td>1.6250</td>\n",
       "    </tr>\n",
       "    <tr>\n",
       "      <th>Southern</th>\n",
       "      <td>1.6250</td>\n",
       "    </tr>\n",
       "    <tr>\n",
       "      <th>Wong Tai Sin</th>\n",
       "      <td>1.0625</td>\n",
       "    </tr>\n",
       "    <tr>\n",
       "      <th>Yuen Long</th>\n",
       "      <td>1.3125</td>\n",
       "    </tr>\n",
       "  </tbody>\n",
       "</table>\n",
       "</div>"
      ],
      "text/plain": [
       "                       goals\n",
       "team                        \n",
       "Biu Chun Rangers      3.0000\n",
       "Dreams Metro Gallery  1.1875\n",
       "Eastern               2.1875\n",
       "HK Pegasus            1.3750\n",
       "Kitchee               2.0000\n",
       "Rangers               0.8000\n",
       "South China           1.6250\n",
       "Southern              1.6250\n",
       "Wong Tai Sin          1.0625\n",
       "Yuen Long             1.3125"
      ]
     },
     "execution_count": 21,
     "metadata": {},
     "output_type": "execute_result"
    }
   ],
   "source": [
    "home = events_results[['home', 'home_score']]\n",
    "home.columns = ['team', 'goals']\n",
    "away = events_results[['away', 'away_score']]\n",
    "away.columns = ['team', 'goals']\n",
    "\n",
    "team_goals = pd.concat([home, away])\n",
    "team_goals.groupby('team').mean()"
   ]
  },
  {
   "cell_type": "code",
   "execution_count": 32,
   "metadata": {},
   "outputs": [
    {
     "data": {
      "text/plain": [
       "array([[<matplotlib.axes._subplots.AxesSubplot object at 0x10f08abe0>,\n",
       "        <matplotlib.axes._subplots.AxesSubplot object at 0x10f13b668>,\n",
       "        <matplotlib.axes._subplots.AxesSubplot object at 0x10f1b2cc0>],\n",
       "       [<matplotlib.axes._subplots.AxesSubplot object at 0x10f1d1390>,\n",
       "        <matplotlib.axes._subplots.AxesSubplot object at 0x10f1e8a20>,\n",
       "        <matplotlib.axes._subplots.AxesSubplot object at 0x10f2060f0>],\n",
       "       [<matplotlib.axes._subplots.AxesSubplot object at 0x10f21e780>,\n",
       "        <matplotlib.axes._subplots.AxesSubplot object at 0x10f237e10>,\n",
       "        <matplotlib.axes._subplots.AxesSubplot object at 0x10f2534e0>],\n",
       "       [<matplotlib.axes._subplots.AxesSubplot object at 0x10f26bb70>,\n",
       "        <matplotlib.axes._subplots.AxesSubplot object at 0x10f288240>,\n",
       "        <matplotlib.axes._subplots.AxesSubplot object at 0x10f29f8d0>]],\n",
       "      dtype=object)"
      ]
     },
     "execution_count": 32,
     "metadata": {},
     "output_type": "execute_result"
    },
    {
     "data": {
      "image/png": "[encoded data removed]",
      "text/plain": [
       "<Figure size 432x288 with 12 Axes>"
      ]
     },
     "metadata": {},
     "output_type": "display_data"
    }
   ],
   "source": [
    "team_goals.loc[team_goals['team']=='Kitchee']\n",
    "\n",
    "pd.DataFrame.hist(data=team_goals, column=['goals'], by=['team'])"
   ]
  },
  {
   "cell_type": "markdown",
   "metadata": {},
   "source": [
    "The plan should be something simpler to start with:\n",
    "* Collect the data of each event starting with the first season of the HK Premier League\n",
    "* Prepare the data so that each team has for each match a number of goal scored and taken\n",
    "* Assign for each team one Poisson distribution for number of goals scored and one for number of goals taken\n",
    "* For each match get the total number of goals scored and fit a distribution on that"
   ]
  },
  {
   "cell_type": "code",
   "execution_count": null,
   "metadata": {},
   "outputs": [],
   "source": []
  }
 ],
 "metadata": {
  "kernelspec": {
   "display_name": "Python 3",
   "language": "python",
   "name": "python3"
  },
  "language_info": {
   "codemirror_mode": {
    "name": "ipython",
    "version": 3
   },
   "file_extension": ".py",
   "mimetype": "text/x-python",
   "name": "python",
   "nbconvert_exporter": "python",
   "pygments_lexer": "ipython3",
   "version": "3.5.1"
  }
 },
 "nbformat": 4,
 "nbformat_minor": 2
}
